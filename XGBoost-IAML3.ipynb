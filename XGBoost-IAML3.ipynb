{
 "cells": [
  {
   "cell_type": "code",
   "execution_count": 13,
   "id": "717c62bd-a26a-4d44-adb2-68762b9c81d4",
   "metadata": {},
   "outputs": [],
   "source": [
    "import pandas as pd\n",
    "import numpy as np\n",
    "from sklearn.model_selection import train_test_split\n",
    "from sklearn.metrics import accuracy_score, confusion_matrix, classification_report\n",
    "import matplotlib.pyplot as plt\n",
    "import seaborn as sns\n",
    "import xgboost as xgb"
   ]
  },
  {
   "cell_type": "markdown",
   "id": "b3934e23-b0f2-44e8-98f3-5f44e538fc2d",
   "metadata": {},
   "source": [
    "Cargar dataset desde URL"
   ]
  },
  {
   "cell_type": "code",
   "execution_count": 14,
   "id": "a79d5dde-1aa0-438c-9d9a-67ca6b111e26",
   "metadata": {},
   "outputs": [],
   "source": [
    "url = \"https://raw.githubusercontent.com/plotly/datasets/master/data.csv\"\n",
    "from sklearn.datasets import load_breast_cancer"
   ]
  },
  {
   "cell_type": "code",
   "execution_count": 15,
   "id": "cc035468-8503-4936-8983-f81aa9191e47",
   "metadata": {},
   "outputs": [],
   "source": [
    "def cargar_datos():\n",
    "    data = load_breast_cancer()\n",
    "    df = pd.DataFrame(data.data, columns=data.feature_names)\n",
    "    df['target'] = data.target\n",
    "    return df"
   ]
  },
  {
   "cell_type": "code",
   "execution_count": 16,
   "id": "c2a3dfd5-5447-4ba2-92fe-59436ba4d2d4",
   "metadata": {},
   "outputs": [],
   "source": [
    "def preparar_datos(df):\n",
    "    X = df.drop('target', axis=1)\n",
    "    y = df['target']\n",
    "    X_train, X_test, y_train, y_test = train_test_split(X, y, test_size=0.2, random_state=42)\n",
    "    return X_train, X_test, y_train, y_test"
   ]
  },
  {
   "cell_type": "code",
   "execution_count": 21,
   "id": "a55ae817-dee4-4475-abbc-c79673553507",
   "metadata": {},
   "outputs": [],
   "source": [
    "def entrenar_xgboost(X_train, y_train):\n",
    "    model = xgb.XGBClassifier(eval_metric='logloss', random_state=42)\n",
    "    model.fit(X_train, y_train)\n",
    "    return model"
   ]
  },
  {
   "cell_type": "code",
   "execution_count": 22,
   "id": "32d4d704-0328-4286-9cb1-ab3b359cf0ef",
   "metadata": {},
   "outputs": [],
   "source": [
    "def evaluar_modelo(model, X_test, y_test):\n",
    "    y_pred = model.predict(X_test)\n",
    "    acc = accuracy_score(y_test, y_pred)\n",
    "    cm = confusion_matrix(y_test, y_pred)\n",
    "    report = classification_report(y_test, y_pred)\n",
    "    \n",
    "    print(f\"Accuracy: {acc:.4f}\\n\")\n",
    "    print(\"Reporte de clasificación:\\n\", report)\n",
    "    \n",
    "    plt.figure(figsize=(6,4))\n",
    "    sns.heatmap(cm, annot=True, fmt='d', cmap='Blues')\n",
    "    plt.title('Matriz de Confusión')\n",
    "    plt.xlabel('Predicción')\n",
    "    plt.ylabel('Real')\n",
    "    plt.show()\n",
    "    \n",
    "    return acc, cm, report"
   ]
  },
  {
   "cell_type": "code",
   "execution_count": 23,
   "id": "14a846e5-ffaf-438a-a2c3-8b25cb3567f9",
   "metadata": {},
   "outputs": [],
   "source": [
    "def pipeline_xgboost():\n",
    "    df = cargar_datos()\n",
    "    X_train, X_test, y_train, y_test = preparar_datos(df)\n",
    "    model = entrenar_xgboost(X_train, y_train)\n",
    "    acc, cm, report = evaluar_modelo(model, X_test, y_test)\n",
    "    return model, acc, cm, report"
   ]
  },
  {
   "cell_type": "code",
   "execution_count": 24,
   "id": "d3f9d1c5-7f98-4949-b6bf-25a96482bb71",
   "metadata": {},
   "outputs": [
    {
     "name": "stdout",
     "output_type": "stream",
     "text": [
      "Accuracy: 0.9561\n",
      "\n",
      "Reporte de clasificación:\n",
      "               precision    recall  f1-score   support\n",
      "\n",
      "           0       0.95      0.93      0.94        43\n",
      "           1       0.96      0.97      0.97        71\n",
      "\n",
      "    accuracy                           0.96       114\n",
      "   macro avg       0.96      0.95      0.95       114\n",
      "weighted avg       0.96      0.96      0.96       114\n",
      "\n"
     ]
    },
    {
     "data": {
      "image/png": "[encoded data removed]",
      "text/plain": [
       "<Figure size 600x400 with 2 Axes>"
      ]
     },
     "metadata": {},
     "output_type": "display_data"
    }
   ],
   "source": [
    "if __name__ == \"__main__\":\n",
    "    model, acc, cm, report = pipeline_xgboost()"
   ]
  },
  {
   "cell_type": "code",
   "execution_count": null,
   "id": "8c4ad404-7cb4-4bef-b337-8bb2573a55f9",
   "metadata": {},
   "outputs": [],
   "source": []
  }
 ],
 "metadata": {
  "kernelspec": {
   "display_name": "Python 3 (ipykernel)",
   "language": "python",
   "name": "python3"
  },
  "language_info": {
   "codemirror_mode": {
    "name": "ipython",
    "version": 3
   },
   "file_extension": ".py",
   "mimetype": "text/x-python",
   "name": "python",
   "nbconvert_exporter": "python",
   "pygments_lexer": "ipython3",
   "version": "3.11.0"
  }
 },
 "nbformat": 4,
 "nbformat_minor": 5
}
